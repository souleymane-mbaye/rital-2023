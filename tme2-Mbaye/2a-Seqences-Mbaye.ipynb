{
 "cells": [
  {
   "cell_type": "markdown",
   "metadata": {},
   "source": [
    "# Sequence Processing with HMMs and CRFs\n",
    "\n",
    "**The goal of this practical is to study sequence models in NLP.**\n",
    "\n",
    "We will work on Part-Of-Speech (POS) and optionally on chunking (gathering different groups in sentences). The datasets are from [CONLL 2000](https://www.clips.uantwerpen.be/conll2000/chunking/): \n",
    "- **Small corpus:** chtrain/chtest to understand the tools and models \n",
    "- **Larger corpus:** train/test to collect reliable experimental results\n",
    "\n",
    "\n",
    "# 1) HMMS\n"
   ]
  },
  {
   "cell_type": "code",
   "execution_count": 1,
   "metadata": {},
   "outputs": [],
   "source": [
    "import numpy as np\n",
    "import matplotlib.pyplot as plt\n"
   ]
  },
  {
   "cell_type": "code",
   "execution_count": 2,
   "metadata": {},
   "outputs": [],
   "source": [
    "# Loading POS/Chunking data\n",
    "def load(filename):\n",
    "    listeDoc = list()\n",
    "    with open(filename, \"r\") as f:\n",
    "        doc = list()\n",
    "        for ligne in f:\n",
    "            if len(ligne) < 2: # fin de doc\n",
    "                listeDoc.append(doc)\n",
    "                doc = list()\n",
    "                continue\n",
    "            mots = ligne.replace(\"\\n\",\"\").split(\" \")\n",
    "            doc.append((mots[0],mots[1])) # Change mots[1] -> mots[2] for chuncking\n",
    "    return listeDoc"
   ]
  },
  {
   "cell_type": "code",
   "execution_count": 3,
   "metadata": {},
   "outputs": [
    {
     "name": "stdout",
     "output_type": "stream",
     "text": [
      "823  docs read\n",
      "77  docs (T) read\n"
     ]
    }
   ],
   "source": [
    "# =============== loding ============\n",
    "# small corpus => ideal for first tests\n",
    "filename = \"ressources/conll2000/chtrain.txt\" \n",
    "filenameT = \"ressources/conll2000/chtest.txt\" \n",
    "\n",
    "# Larger corpus => To valide perf.\n",
    "# filename = \"ressources/conll2000/train.txt\" \n",
    "# filenameT = \"ressources/conll2000/test.txt\" \n",
    "\n",
    "alldocs = load(filename)\n",
    "alldocsT = load(filenameT)\n",
    "\n",
    "print(len(alldocs),\" docs read\")\n",
    "print(len(alldocsT),\" docs (T) read\")"
   ]
  },
  {
   "cell_type": "code",
   "execution_count": 4,
   "metadata": {},
   "outputs": [
    {
     "name": "stdout",
     "output_type": "stream",
     "text": [
      "[('Rockwell', 'NNP'), ('International', 'NNP'), ('Corp.', 'NNP'), (\"'s\", 'POS'), ('Tulsa', 'NNP'), ('unit', 'NN'), ('said', 'VBD'), ('it', 'PRP'), ('signed', 'VBD'), ('a', 'DT'), ('tentative', 'JJ'), ('agreement', 'NN'), ('extending', 'VBG'), ('its', 'PRP$'), ('contract', 'NN'), ('with', 'IN'), ('Boeing', 'NNP'), ('Co.', 'NNP'), ('to', 'TO'), ('provide', 'VB'), ('structural', 'JJ'), ('parts', 'NNS'), ('for', 'IN'), ('Boeing', 'NNP'), (\"'s\", 'POS'), ('747', 'CD'), ('jetliners', 'NNS'), ('.', '.')]\n",
      "[('Confidence', 'NN'), ('in', 'IN'), ('the', 'DT'), ('pound', 'NN'), ('is', 'VBZ'), ('widely', 'RB'), ('expected', 'VBN'), ('to', 'TO'), ('take', 'VB'), ('another', 'DT'), ('sharp', 'JJ'), ('dive', 'NN'), ('if', 'IN'), ('trade', 'NN'), ('figures', 'NNS'), ('for', 'IN'), ('September', 'NNP'), (',', ','), ('due', 'JJ'), ('for', 'IN'), ('release', 'NN'), ('tomorrow', 'NN'), (',', ','), ('fail', 'VB'), ('to', 'TO'), ('show', 'VB'), ('a', 'DT'), ('substantial', 'JJ'), ('improvement', 'NN'), ('from', 'IN'), ('July', 'NNP'), ('and', 'CC'), ('August', 'NNP'), (\"'s\", 'POS'), ('near-record', 'JJ'), ('deficits', 'NNS'), ('.', '.')]\n"
     ]
    }
   ],
   "source": [
    "print(alldocs[0])\n",
    "print(alldocsT[0])"
   ]
  },
  {
   "cell_type": "markdown",
   "metadata": {},
   "source": [
    "## Building a baseline POS model (without sequence)\n",
    "\n",
    "We will build a simple dictionary ```word => PoS label``` without taking into account any sequence information. We will compare the sequence models to this baseline.\n",
    "\n",
    "The dataset is a list a tuples with ```(word, POS)```. **Build a simple dictionary mapping each word to its PoS tag in the train set**"
   ]
  },
  {
   "cell_type": "code",
   "execution_count": 5,
   "metadata": {},
   "outputs": [
    {
     "name": "stdout",
     "output_type": "stream",
     "text": [
      "{'VBD': 1}\n"
     ]
    }
   ],
   "source": [
    "# Dictionary building \n",
    "dico = dict()\n",
    "# YOUR CODE HERE\n",
    "for ligne in alldocs:\n",
    "  for word,PoS in ligne:\n",
    "    if word not in dico:\n",
    "      dico[word] = dict()\n",
    "    if PoS not in dico[word]:\n",
    "      if PoS not in dico[word]:\n",
    "        dico[word][PoS] = 0\n",
    "      dico[word][PoS] += 1\n",
    "print(dico['said'])"
   ]
  },
  {
   "cell_type": "code",
   "execution_count": 9,
   "metadata": {},
   "outputs": [
    {
     "data": {
      "text/plain": [
       "'DT'"
      ]
     },
     "execution_count": 9,
     "metadata": {},
     "output_type": "execute_result"
    }
   ],
   "source": [
    "dico_max = dict() # à chaque mot son PoS le plus fréquent\n",
    "for word in dico:\n",
    "  d_PoS = dico[word]\n",
    "  PoS_m,v_m = 'xyz',0\n",
    "  for PoS in d_PoS:\n",
    "    if d_PoS[PoS] > v_m:\n",
    "      PoS_m = PoS\n",
    "      v_m = d_PoS[PoS]\n",
    "  dico_max[word] = PoS\n",
    "\n",
    "dico_max['a']"
   ]
  },
  {
   "cell_type": "markdown",
   "metadata": {},
   "source": [
    "**Note: on the test set, there are unknown words...**. We will use the following simple strategy: \n",
    "```\n",
    "# remplace\n",
    "dico[cle] # crashing with an unknown key \n",
    "# by \n",
    "dico.get(cle, DefaultValue)\n",
    "```\n",
    "From a linguistic point of view, we can choose the default value as the majority PoS class, producing a stronger baseline."
   ]
  },
  {
   "cell_type": "code",
   "execution_count": 10,
   "metadata": {},
   "outputs": [
    {
     "name": "stdout",
     "output_type": "stream",
     "text": [
      "Check: 1365 good predictions in test over 1896\n",
      "(261 with 'NN' as default PoS value\n"
     ]
    }
   ],
   "source": [
    "# Evaluate test performances\n",
    "\n",
    "# TODO\n",
    "DefaultValue = 'NN'\n",
    "n_default = 0\n",
    "cont,n = 0,0\n",
    "for ligne in alldocsT:\n",
    "  for word,PoS in ligne:\n",
    "    if word not in dico_max:\n",
    "      dico_max[word] = DefaultValue\n",
    "      n_default += 1\n",
    "    y_PoS = dico_max[word]\n",
    "    if y_PoS == PoS:\n",
    "      cont += 1 # bonne prediction\n",
    "    n += 1\n",
    "\n",
    "print('Check:',cont,'good predictions in test over',n)\n",
    "print(f\"({n_default} with 'NN' as default PoS value)\")"
   ]
  },
  {
   "cell_type": "markdown",
   "metadata": {},
   "source": [
    "Check: 1433 good predictions in test over 1896\n",
    "\n",
    "(1527 with 'NN' as default PoS value)"
   ]
  },
  {
   "cell_type": "markdown",
   "metadata": {},
   "source": [
    "## HMMs\n",
    "\n",
    "Here is a code for training HMM parameters and running decoding using the Viterbi algorithm. You should apply it to our PoS task. **N.B.: you should undersand the ```eps``` parmaters**.\n"
   ]
  },
  {
   "cell_type": "code",
   "execution_count": 11,
   "metadata": {},
   "outputs": [],
   "source": [
    "# allx: list of observation sequences \n",
    "# allq: list os state sequences \n",
    "# N: nb states\n",
    "# K: nb observations\n",
    "\n",
    "def learnHMM(allx, allq, N, K, initTo1=True):\n",
    "    if initTo1:\n",
    "        eps = 1e-3 # You can play with this regularization parameter \n",
    "        A = np.ones((N,N))*eps\n",
    "        B = np.ones((N,K))*eps\n",
    "        Pi = np.ones(N)*eps\n",
    "    else:\n",
    "        A = np.zeros((N,N))\n",
    "        B = np.zeros((N,K))\n",
    "        Pi = np.zeros(N)\n",
    "    for x,q in zip(allx,allq):\n",
    "        Pi[int(q[0])] += 1\n",
    "        for i in range(len(q)-1):\n",
    "            A[int(q[i]),int(q[i+1])] += 1\n",
    "            B[int(q[i]),int(x[i])] += 1\n",
    "        B[int(q[-1]),int(x[-1])] += 1 # last transition\n",
    "    A = A/np.maximum(A.sum(1).reshape(N,1),1) # normalisation\n",
    "    B = B/np.maximum(B.sum(1).reshape(N,1),1) # normalisation\n",
    "    Pi = Pi/Pi.sum()\n",
    "    return Pi , A, B\n",
    "\n",
    "def viterbi(x,Pi,A,B):\n",
    "    T = len(x)\n",
    "    N = len(Pi)\n",
    "    logA = np.log(A)\n",
    "    logB = np.log(B)\n",
    "    logdelta = np.zeros((N,T))\n",
    "    psi = np.zeros((N,T), dtype=int)\n",
    "    S = np.zeros(T)\n",
    "    logdelta[:,0] = np.log(Pi) + logB[:,int(x[0])]\n",
    "    #forward\n",
    "    for t in range(1,T):\n",
    "        logdelta[:,t] = (logdelta[:,t-1].reshape(N,1) + logA).max(0) + logB[:,int(x[t])]\n",
    "        psi[:,t] = (logdelta[:,t-1].reshape(N,1) + logA).argmax(0)\n",
    "    # backward\n",
    "    logp = logdelta[:,-1].max()\n",
    "    S[T-1] = logdelta[:,-1].argmax()\n",
    "    for i in range(2,T+1):\n",
    "        S[int(T-i)] = psi[int(S[int(T-i+1)]),int(T-i+1)]\n",
    "    return S, logp #, delta, psi\n",
    " "
   ]
  },
  {
   "cell_type": "markdown",
   "metadata": {},
   "source": [
    "### Data encoding\n",
    "\n",
    "We will map each word to an index for traing the HMM (see code below):\n",
    "```\n",
    " The cat is in the garden => 1 2 3 4 1 5\n",
    "```\n",
    "We have to understand the dictionary functionning to retrieve the words corresponding to indices."
   ]
  },
  {
   "cell_type": "code",
   "execution_count": 12,
   "metadata": {},
   "outputs": [
    {
     "name": "stdout",
     "output_type": "stream",
     "text": [
      "4570 42  in the dictionary\n"
     ]
    }
   ],
   "source": [
    "# alldocs etant issu du chargement des données\n",
    "# la mise en forme des données est fournie ici\n",
    "# afin de produire des analyses qualitative, vous devez malgré tout comprendre le fonctionnement des dictionnaires\n",
    "\n",
    "buf = [[m for m,pos in d ] for d in alldocs]\n",
    "mots = []\n",
    "[mots.extend(b) for b in buf]\n",
    "mots = np.unique(np.array(mots))\n",
    "nMots = len(mots)+1 # mot inconnu\n",
    "\n",
    "mots2ind = dict(zip(mots,range(len(mots))))\n",
    "mots2ind[\"UUUUUUUU\"] = len(mots)\n",
    "\n",
    "buf2 = [[pos for m,pos in d ] for d in alldocs]\n",
    "cles = []\n",
    "[cles.extend(b) for b in buf2]\n",
    "cles = np.unique(np.array(cles))\n",
    "cles2ind = dict(zip(cles,range(len(cles))))\n",
    "\n",
    "nCles = len(cles)\n",
    "\n",
    "print(nMots,nCles,\" in the dictionary\")\n",
    "\n",
    "# mise en forme des données\n",
    "allx  = [[mots2ind[m] for m,pos in d] for d in alldocs]\n",
    "allxT = [[mots2ind.setdefault(m,len(mots)) for m,pos in d] for d in alldocsT]\n",
    "\n",
    "allq  = [[cles2ind[pos] for m,pos in d] for d in alldocs]\n",
    "allqT = [[cles2ind.setdefault(pos,len(cles)) for m,pos in d] for d in alldocsT]"
   ]
  },
  {
   "cell_type": "code",
   "execution_count": 13,
   "metadata": {},
   "outputs": [
    {
     "name": "stdout",
     "output_type": "stream",
     "text": [
      "[1140, 814, 563, 11, 1294, 4393, 3855, 2854, 3992, 1362, 4242, 1452, 2395, 2855, 1990, 4529, 446, 525, 4299, 3595, 4148, 3368, 2499, 446, 11, 283, 2861, 20]\n",
      "[18, 18, 18, 22, 18, 17, 32, 23, 32, 9, 13, 17, 33, 24, 17, 12, 18, 18, 29, 31, 13, 20, 12, 18, 22, 8, 20, 5]\n"
     ]
    }
   ],
   "source": [
    "# First doc:\n",
    "print(allx[0])\n",
    "print(allq[0])"
   ]
  },
  {
   "cell_type": "markdown",
   "metadata": {},
   "source": [
    "## You turn: apply HMMs to those data!"
   ]
  },
  {
   "cell_type": "code",
   "execution_count": 14,
   "metadata": {},
   "outputs": [],
   "source": [
    "# HMM training \n",
    "# YOUR CODE HERE\n",
    "Pi, A, B = learnHMM(allx, allq, nCles, nMots)"
   ]
  },
  {
   "cell_type": "code",
   "execution_count": 15,
   "metadata": {},
   "outputs": [
    {
     "name": "stdout",
     "output_type": "stream",
     "text": [
      "Check: 1538 good predictions in test over 1896\n"
     ]
    }
   ],
   "source": [
    "# HMM decoding and performances evaluation\n",
    "# YOUR CODE HERE\n",
    "cont,n = 0,0\n",
    "for i in range(len(allxT)):\n",
    "  x,y = allxT[i],allqT[i]\n",
    "  l_PoS = viterbi(x,Pi,A,B)\n",
    "  # print(y)\n",
    "  # print(l_PoS[0])\n",
    "  # print(np.sum(l_PoS[0]==y))\n",
    "  cont += np.sum(l_PoS[0]==y)\n",
    "  n += len(y)\n",
    "\n",
    "print('Check:',cont,'good predictions in test over',n)\n",
    "#"
   ]
  },
  {
   "cell_type": "markdown",
   "metadata": {},
   "source": [
    "Check : 1564 in test"
   ]
  },
  {
   "cell_type": "markdown",
   "metadata": {},
   "source": [
    "### Qualitative Analyis:\n",
    "\n",
    "- With imshow on the parameters (ou d'un argsort), show what are the probable transition between labels.\n",
    "- Visualize the confusion matrices to understand what is challenging in this task\n",
    "- Find out examples that are corrected by Viterbi decoding\n",
    "\n"
   ]
  },
  {
   "cell_type": "code",
   "execution_count": 18,
   "metadata": {},
   "outputs": [
    {
     "data": {
      "text/plain": [
       "<matplotlib.image.AxesImage at 0x1152c9d30>"
      ]
     },
     "execution_count": 18,
     "metadata": {},
     "output_type": "execute_result"
    },
    {
     "data": {
      "image/png": "[encoded data removed]",
      "text/plain": [
       "<Figure size 432x288 with 1 Axes>"
      ]
     },
     "metadata": {
      "needs_background": "light"
     },
     "output_type": "display_data"
    }
   ],
   "source": [
    "plt.imshow(A)"
   ]
  },
  {
   "cell_type": "code",
   "execution_count": 22,
   "metadata": {},
   "outputs": [
    {
     "name": "stdout",
     "output_type": "stream",
     "text": [
      "(2, 4, 6)\n",
      "(3, 5, 7)\n"
     ]
    }
   ],
   "source": [
    "for k in zip([2,3],[4,5],[6,7]):\n",
    "  print(k)"
   ]
  },
  {
   "cell_type": "code",
   "execution_count": 30,
   "metadata": {},
   "outputs": [
    {
     "name": "stdout",
     "output_type": "stream",
     "text": [
      "Exemples corrigés par viterbi: 1340\n"
     ]
    }
   ],
   "source": [
    "# exemples corrigés par viterbi\n",
    "vit_cor = []\n",
    "for i in range(len(allxT)):\n",
    "  x,y = allxT[i],allqT[i]\n",
    "  l_PoS = viterbi(x,Pi,A,B)\n",
    "  # print(y)\n",
    "  # print(l_PoS[0])\n",
    "  # print(np.sum(l_PoS[0]==y))\n",
    "  for xi,yi,pos in zip(x,y,l_PoS[0]):\n",
    "    y1 = DefaultValue if xi not in dico_max else dico_max[xi]\n",
    "    y1 = cles2ind[y1]\n",
    "    pos = int(pos)\n",
    "    if pos==yi and y1!=yi:\n",
    "      vit_cor.append((xi,yi))\n",
    "\n",
    "print('Exemples corrigés par viterbi:',len(vit_cor))"
   ]
  },
  {
   "cell_type": "markdown",
   "metadata": {},
   "source": [
    "# 2) Conditional Random Fields (CRF)"
   ]
  },
  {
   "cell_type": "markdown",
   "metadata": {},
   "source": [
    "**CRF are disciminative models** representing the conditional distribution $P( \\mathbf{y} | \\mathbf{x} , \\mathbf{w})$:\n",
    "\n",
    "$$ P( \\mathbf{y} | \\mathbf{x} , \\mathbf{w})  = \\frac{e^{\\mathbf{w}^T  \\psi(\\mathbf{x},\\mathbf{y}) } }{\\sum\\limits_{y' \\in \\mathcal{y}}e^{\\mathbf{w}^T  \\psi(\\mathbf{x},\\mathbf{y}') } } $$ \n",
    "        \n",
    "**In 'linear-chain' CRFs**, the feature functions include **unary terms $u_k$** ($\\sim$ $\\mathbf{B}$ matrix in HMMs) and **pairwise terms $p_k$** ($\\sim$ $\\mathbf{A}$ matrix in HMMs):\n",
    "\n",
    "$$ \\psi(\\mathbf{x},\\mathbf{y}) = \\sum\\limits_{t=1}^T \\sum_{k=1}^K F_k(y_{t-1}, y_t, \\mathbf{x})  =   \\sum\\limits_{t=1}^T \\sum_{k=1}^K \\left[ u_k(y_t, \\mathbf{x}) + p_k(y_{t-1}, y_t, \\mathbf{x}) \\right]$$\n",
    "\n",
    "[<img src=\"https://thome.isir.upmc.fr/classes/RITAL/crf-obs2.png\" width=\"800\" >](https://thome.isir.upmc.fr/classes/RITAL/crf-obs2.png)\n"
   ]
  },
  {
   "cell_type": "markdown",
   "metadata": {},
   "source": [
    "We can directly use resources from nltk: \n",
    "- [CRFTagger](https://tedboy.github.io/nlps/generated/generated/nltk.CRFTagger.html)\n",
    "- [PerceptronTagger](https://www.nltk.org/_modules/nltk/tag/perceptron.html)"
   ]
  },
  {
   "cell_type": "code",
   "execution_count": 47,
   "metadata": {},
   "outputs": [
    {
     "name": "stdout",
     "output_type": "stream",
     "text": [
      "[[('Confidence', 'NNP'), ('in', 'IN'), ('the', 'DT'), ('pound', 'NN'), ('is', 'VBZ'), ('widely', 'RB'), ('expected', 'VBN'), ('to', 'TO'), ('take', 'VB'), ('another', 'DT'), ('sharp', 'JJ'), ('dive', 'NN'), ('if', 'IN'), ('trade', 'NN'), ('figures', 'NNS'), ('for', 'IN'), ('September', 'NNP'), (',', ','), ('due', 'JJ'), ('for', 'IN'), ('release', 'DT'), ('tomorrow', 'NN'), (',', ','), ('fail', 'NN'), ('to', 'TO'), ('show', 'VB'), ('a', 'DT'), ('substantial', 'JJ'), ('improvement', 'NN'), ('from', 'IN'), ('July', 'NNP'), ('and', 'CC'), ('August', 'NNP'), (\"'s\", 'POS'), ('near-record', 'NN'), ('deficits', 'NNS'), ('.', '.')], [('Chancellor', 'NNP'), ('of', 'IN'), ('the', 'DT'), ('Exchequer', 'NNP'), ('Nigel', 'NNP'), ('Lawson', 'NNP'), (\"'s\", 'POS'), ('restated', 'JJ'), ('commitment', 'NN'), ('to', 'TO'), ('a', 'DT'), ('firm', 'NN'), ('monetary', 'NN'), ('policy', 'NN'), ('has', 'VBZ'), ('helped', 'VBN'), ('to', 'TO'), ('prevent', 'VB'), ('a', 'DT'), ('freefall', 'NN'), ('in', 'IN'), ('sterling', 'VBG'), ('over', 'IN'), ('the', 'DT'), ('past', 'JJ'), ('week', 'NN'), ('.', '.')], [('But', 'CC'), ('analysts', 'NNS'), ('reckon', 'IN'), ('underlying', 'VBG'), ('support', 'NN'), ('for', 'IN'), ('sterling', 'VBG'), ('has', 'VBZ'), ('been', 'VBN'), ('eroded', 'VBN'), ('by', 'IN'), ('the', 'DT'), ('chancellor', 'NN'), (\"'s\", 'POS'), ('failure', 'NN'), ('to', 'TO'), ('announce', 'VB'), ('any', 'DT'), ('new', 'JJ'), ('policy', 'NN'), ('measures', 'NNS'), ('in', 'IN'), ('his', 'PRP$'), ('Mansion', 'NN'), ('House', 'IN'), ('speech', 'DT'), ('last', 'JJ'), ('Thursday', 'NNP'), ('.', '.')], [('This', 'DT'), ('has', 'VBZ'), ('increased', 'VBN'), ('the', 'DT'), ('risk', 'NN'), ('of', 'IN'), ('the', 'DT'), ('government', 'NN'), ('being', 'VBG'), ('forced', 'VBN'), ('to', 'TO'), ('increase', 'VB'), ('base', 'NN'), ('rates', 'NNS'), ('to', 'TO'), ('16', 'CD'), ('%', 'NN'), ('from', 'IN'), ('their', 'PRP$'), ('current', 'NN'), ('15', 'CD'), ('%', 'NN'), ('level', 'NN'), ('to', 'TO'), ('defend', 'VB'), ('the', 'DT'), ('pound', 'NN'), (',', ','), ('economists', 'NNS'), ('and', 'CC'), ('foreign', 'JJ'), ('exchange', 'NN'), ('market', 'NN'), ('analysts', 'NNS'), ('say', 'VBP'), ('.', '.')], [('``', '``'), ('The', 'DT'), ('risks', 'NNS'), ('for', 'IN'), ('sterling', 'VBG'), ('of', 'IN'), ('a', 'DT'), ('bad', 'JJ'), ('trade', 'NN'), ('figure', 'NN'), ('are', 'VBP'), ('very', 'RB'), ('heavily', 'RB'), ('on', 'IN'), ('the', 'DT'), ('down', 'JJ'), ('side', 'NN'), (',', ','), (\"''\", \"''\"), ('said', 'VBD'), ('Chris', 'NNP'), ('Dillow', 'NNP'), (',', ','), ('senior', 'IN'), ('U.K.', 'NNP'), ('economist', 'NN'), ('at', 'IN'), ('Nomura', 'NNP'), ('Research', 'NNP'), ('Institute', 'NNP'), ('.', '.')], [('``', '``'), ('If', 'IN'), ('there', 'EX'), ('is', 'VBZ'), ('another', 'DT'), ('bad', 'JJ'), ('trade', 'NN'), ('number', 'NN'), (',', ','), ('there', 'EX'), ('could', 'MD'), ('be', 'VB'), ('an', 'DT'), ('awful', 'JJ'), ('lot', 'NN'), ('of', 'IN'), ('pressure', 'NN'), (',', ','), (\"''\", \"''\"), ('noted', 'VBD'), ('Simon', 'NNP'), ('Briscoe', 'NNP'), (',', ','), ('U.K.', 'NNP'), ('economist', 'NN'), ('for', 'IN'), ('Midland', 'NNP'), ('Montagu', 'NNP'), (',', ','), ('a', 'DT'), ('unit', 'NN'), ('of', 'IN'), ('Midland', 'NNP'), ('Bank', 'NNP'), ('PLC', 'NNP'), ('.', '.')], [('Forecasts', 'NNS'), ('for', 'IN'), ('the', 'DT'), ('trade', 'NN'), ('figures', 'NNS'), ('range', 'VBP'), ('widely', 'RB'), (',', ','), ('but', 'CC'), ('few', 'JJ'), ('economists', 'NNS'), ('expect', 'VBP'), ('the', 'DT'), ('data', 'NN'), ('to', 'TO'), ('show', 'VB'), ('a', 'DT'), ('very', 'NN'), ('marked', 'VBD'), ('improvement', 'NN'), ('from', 'IN'), ('the', 'DT'), ('#', 'NN'), ('2', 'CD'), ('billion', 'CD'), ('-LRB-', '('), ('$', '$'), ('3.2', 'CD'), ('billion', 'CD'), ('-RRB-', ')'), ('deficit', 'NN'), ('in', 'IN'), ('the', 'DT'), ('current', 'JJ'), ('account', 'NN'), ('reported', 'VBD'), ('for', 'IN'), ('August', 'NNP'), ('.', '.')], [('The', 'DT'), ('August', 'NNP'), ('deficit', 'NN'), ('and', 'CC'), ('the', 'DT'), ('#', 'NN'), ('2.2', 'CD'), ('billion', 'CD'), ('gap', 'NN'), ('registered', 'VBN'), ('in', 'IN'), ('July', 'NNP'), ('are', 'VBP'), ('topped', 'VBN'), ('only', 'RB'), ('by', 'IN'), ('the', 'DT'), ('#', 'NN'), ('2.3', 'CD'), ('billion', 'CD'), ('deficit', 'NN'), ('of', 'IN'), ('October', 'NNP'), ('1988', 'CD'), ('.', '.')], [('Sanjay', 'NNP'), ('Joshi', 'NNP'), (',', ','), ('European', 'NNP'), ('economist', 'NN'), ('at', 'IN'), ('Baring', 'NNP'), ('Brothers', 'NNP'), ('&', 'CC'), ('Co.', 'NNP'), (',', ','), ('said', 'VBD'), ('there', 'EX'), ('is', 'VBZ'), ('no', 'DT'), ('sign', 'NN'), ('that', 'IN'), ('Britain', 'NNP'), (\"'s\", 'POS'), ('manufacturing', 'NN'), ('industry', 'NN'), ('is', 'VBZ'), ('transforming', 'VBG'), ('itself', 'PRP'), ('to', 'TO'), ('boost', 'VB'), ('exports', 'NNS'), ('.', '.')], [('At', 'IN'), ('the', 'DT'), ('same', 'JJ'), ('time', 'NN'), (',', ','), ('he', 'PRP'), ('remains', 'VBZ'), ('fairly', 'RB'), ('pessimistic', 'JJ'), ('about', 'IN'), ('the', 'DT'), ('outlook', 'NN'), ('for', 'IN'), ('imports', 'NNS'), (',', ','), ('given', 'RB'), ('continued', 'VBD'), ('high', 'JJ'), ('consumer', 'NN'), ('and', 'CC'), ('capital', 'JJ'), ('goods', 'NNS'), ('inflows', 'NNS'), ('.', '.')], [('He', 'PRP'), ('reckons', 'VBZ'), ('the', 'DT'), ('current', 'JJ'), ('account', 'NN'), ('deficit', 'NN'), ('will', 'MD'), ('narrow', 'VB'), ('to', 'TO'), ('only', 'RB'), ('#', '.'), ('1.8', 'CD'), ('billion', 'CD'), ('in', 'IN'), ('September', 'NNP'), ('.', '.')], [('However', 'RB'), (',', ','), ('Mr.', 'NNP'), ('Dillow', 'NNP'), ('said', 'VBD'), ('he', 'PRP'), ('believes', 'VBZ'), ('that', 'IN'), ('a', 'DT'), ('reduction', 'NN'), ('in', 'IN'), ('raw', 'JJ'), ('material', 'JJ'), ('stockbuilding', 'NN'), ('by', 'IN'), ('industry', 'NN'), ('could', 'MD'), ('lead', 'VB'), ('to', 'TO'), ('a', 'DT'), ('sharp', 'JJ'), ('drop', 'NN'), ('in', 'IN'), ('imports', 'NNS'), ('.', '.')], [('Combined', 'VBN'), ('with', 'IN'), ('at', 'IN'), ('least', 'JJS'), ('some', 'DT'), ('rebound', 'NN'), ('in', 'IN'), ('exports', 'NNS'), ('after', 'IN'), ('August', 'NNP'), (\"'s\", 'POS'), ('unexpected', 'JJ'), ('decline', 'NN'), (',', ','), ('the', 'DT'), ('deficit', 'NN'), ('could', 'MD'), ('narrow', 'VB'), ('to', 'TO'), ('as', 'IN'), ('little', 'NN'), ('as', 'IN'), ('#', 'CD'), ('1.3', 'CD'), ('billion', 'CD'), ('.', '.')], [('Mr.', 'NNP'), ('Briscoe', 'NNP'), (',', ','), ('who', 'WP'), ('also', 'RB'), ('forecasts', 'VBZ'), ('a', 'DT'), ('#', 'NN'), ('1.3', 'CD'), ('billion', 'CD'), ('current', 'JJ'), ('account', 'NN'), ('gap', 'NN'), (',', ','), ('warns', 'NNS'), ('that', 'IN'), ('even', 'RB'), ('if', 'IN'), ('the', 'DT'), ('trade', 'NN'), ('figures', 'NNS'), ('are', 'VBP'), ('bullish', 'NN'), ('for', 'IN'), ('sterling', 'VBG'), (',', ','), ('the', 'DT'), ('currency', 'NN'), ('wo', 'MD'), (\"n't\", 'RB'), ('advance', 'VB'), ('much', 'JJ'), ('because', 'NN'), ('investors', 'NNS'), ('will', 'MD'), ('want', 'VB'), ('to', 'TO'), ('see', 'VB'), ('further', 'JJ'), ('evidence', 'NN'), ('of', 'IN'), ('the', 'DT'), ('turnaround', 'NN'), ('before', 'IN'), ('adjusting', 'VBG'), ('positions', 'NNS'), ('.', '.')], [('Nevertheless', 'NNP'), (',', ','), ('he', 'PRP'), ('noted', 'VBD'), (',', ','), ('``', '``'), ('No', 'NNP'), ('one', 'CD'), ('will', 'MD'), ('want', 'VB'), ('to', 'TO'), ('go', 'VB'), ('into', 'IN'), ('the', 'DT'), ('trade', 'NN'), ('figures', 'NNS'), ('without', 'IN'), ('a', 'DT'), ('flat', 'JJ'), ('position', 'NN'), (\"''\", \"''\"), ('in', 'IN'), ('the', 'DT'), ('pound', 'NN'), ('.', '.')], [('Meanwhile', 'NNP'), (',', ','), ('overall', 'JJ'), ('evidence', 'NN'), ('on', 'IN'), ('the', 'DT'), ('economy', 'NN'), ('remains', 'NNS'), ('fairly', 'RB'), ('clouded', 'VBN'), ('.', '.')], [('In', 'IN'), ('his', 'PRP$'), ('Mansion', 'NNP'), ('House', 'NNP'), ('speech', 'NN'), (',', ','), ('Mr.', 'NNP'), ('Lawson', 'NNP'), ('warned', 'VBD'), ('that', 'IN'), ('a', 'DT'), ('further', 'JJ'), ('slowdown', 'NN'), ('can', 'MD'), ('be', 'VB'), ('expected', 'VBN'), ('as', 'IN'), ('the', 'DT'), ('impact', 'NN'), ('of', 'IN'), ('the', 'DT'), ('last', 'JJ'), ('rise', 'NN'), ('in', 'IN'), ('interest', 'NN'), ('rates', 'NNS'), ('earlier', 'RBR'), ('this', 'DT'), ('month', 'NN'), ('takes', 'NNS'), ('effect', 'VBP'), ('.', '.')], [('U.K.', 'NNP'), ('base', 'NN'), ('rates', 'NNS'), ('are', 'VBP'), ('at', 'IN'), ('their', 'PRP$'), ('highest', 'JJS'), ('level', 'NN'), ('in', 'IN'), ('eight', 'NN'), ('years', 'NNS'), ('.', '.')], [('But', 'CC'), ('consumer', 'JJ'), ('expenditure', 'NN'), ('data', 'NN'), ('released', 'VBD'), ('Friday', 'NNP'), ('do', 'RB'), (\"n't\", 'RB'), ('suggest', 'VB'), ('that', 'IN'), ('the', 'DT'), ('U.K.', 'NNP'), ('economy', 'NN'), ('is', 'VBZ'), ('slowing', 'VBG'), ('that', 'IN'), ('quickly', 'RB'), ('.', '.')], [('The', 'DT'), ('figures', 'NNS'), ('show', 'VBP'), ('that', 'DT'), ('spending', 'NN'), ('rose', 'VBD'), ('0.1', 'CD'), ('%', 'NN'), ('in', 'IN'), ('the', 'DT'), ('third', 'JJ'), ('quarter', 'NN'), ('from', 'IN'), ('the', 'DT'), ('second', 'JJ'), ('quarter', 'NN'), ('and', 'CC'), ('was', 'VBD'), ('up', 'IN'), ('3.8', 'CD'), ('%', 'NN'), ('from', 'IN'), ('a', 'DT'), ('year', 'NN'), ('ago', 'RB'), ('.', '.')], [('This', 'DT'), ('compares', 'NNS'), ('with', 'IN'), ('a', 'DT'), ('1.6', 'CD'), ('%', 'NN'), ('rise', 'NN'), ('in', 'IN'), ('the', 'DT'), ('second', 'NN'), ('from', 'IN'), ('the', 'DT'), ('first', 'JJ'), ('quarter', 'NN'), ('and', 'CC'), ('a', 'DT'), ('5.4', 'CD'), ('%', 'NN'), ('increase', 'NN'), ('from', 'IN'), ('the', 'DT'), ('second', 'JJ'), ('quarter', 'NN'), ('of', 'IN'), ('1988', 'CD'), ('.', '.')], [('Mr.', 'NNP'), ('Dillow', 'NNP'), ('said', 'VBD'), ('the', 'DT'), ('data', 'NN'), ('show', 'IN'), ('the', 'DT'), ('economy', 'NN'), ('``', '``'), ('is', 'VBZ'), ('still', 'RB'), ('quite', 'JJ'), ('strong', 'NN'), (',', ','), (\"''\", \"''\"), ('but', 'CC'), ('suggestions', 'NNS'), ('that', 'IN'), ('much', 'JJ'), ('of', 'IN'), ('the', 'DT'), ('spending', 'NN'), ('went', 'NN'), ('on', 'IN'), ('services', 'NNS'), ('rather', 'JJR'), ('than', 'IN'), ('consumer', 'JJ'), ('goods', 'NNS'), ('should', 'MD'), ('reduce', 'VB'), ('fears', 'NNS'), ('of', 'IN'), ('more', 'JJR'), ('import', 'NN'), ('rises', 'NNS'), ('.', '.')], [('Certainly', 'RB'), (',', ','), ('the', 'DT'), ('chancellor', 'NN'), ('has', 'VBZ'), ('made', 'VBN'), ('it', 'PRP'), ('clear', 'VBP'), ('that', 'IN'), ('he', 'PRP'), ('is', 'VBZ'), ('prepared', 'VBN'), ('to', 'TO'), ('increase', 'VB'), ('interest', 'JJS'), ('rates', 'NNS'), ('again', 'RB'), ('if', 'IN'), ('necessary', 'NN'), ('to', 'TO'), ('both', 'DT'), ('ensure', 'NN'), ('that', 'IN'), ('a', 'DT'), ('substantial', 'JJ'), ('slowdown', 'JJ'), ('does', 'NNS'), ('take', 'VBP'), ('place', 'NN'), ('and', 'CC'), ('that', 'IN'), ('sterling', 'VBG'), ('does', 'NNS'), (\"n't\", 'RB'), ('decline', 'JJ'), ('further', 'NN'), ('.', '.')], [('Thursday', 'NNP'), (',', ','), ('he', 'PRP'), ('reminded', 'VBD'), ('his', 'PRP$'), ('audience', 'NN'), ('that', 'IN'), ('the', 'DT'), ('government', 'NN'), ('``', '``'), ('can', 'MD'), ('not', 'RB'), ('allow', 'VB'), ('the', 'DT'), ('necessary', 'JJ'), ('rigor', 'NN'), ('of', 'IN'), ('monetary', 'JJ'), ('policy', 'NN'), ('to', 'TO'), ('be', 'VB'), ('undermined', 'VBN'), ('by', 'IN'), ('exchange', 'NN'), ('rate', 'NN'), ('weakness', 'NN'), ('.', '.'), (\"''\", \"''\")], [('Analysts', 'NNS'), ('agree', 'VBP'), ('there', 'EX'), ('is', 'VBZ'), ('little', 'RB'), ('holding', 'VBG'), ('sterling', 'VBG'), ('firm', 'NN'), ('at', 'IN'), ('the', 'DT'), ('moment', 'NN'), ('other', 'NN'), ('than', 'IN'), ('Mr.', 'NNP'), ('Lawson', 'NNP'), (\"'s\", 'POS'), ('promise', 'NN'), ('that', 'IN'), ('rates', 'NNS'), ('will', 'MD'), ('be', 'VB'), ('pushed', 'VBN'), ('higher', 'JJR'), ('if', 'IN'), ('necessary', 'NN'), ('.', '.')], [('And', 'NNP'), (',', ','), ('they', 'PRP'), ('warn', 'VBP'), (',', ','), ('any', 'DT'), ('further', 'JJ'), ('drop', 'NN'), ('in', 'IN'), ('the', 'DT'), ('government', 'NN'), (\"'s\", 'POS'), ('popularity', 'NN'), ('could', 'MD'), ('swiftly', 'RB'), ('make', 'VB'), ('this', 'DT'), ('promise', 'NN'), ('sound', 'CC'), ('hollow', 'NN'), ('.', '.')], [('Sterling', 'NNP'), ('was', 'VBD'), ('already', 'RB'), ('showing', 'VBG'), ('some', 'DT'), ('signs', 'NNS'), ('of', 'IN'), ('a', 'DT'), ('lack', 'NN'), ('of', 'IN'), ('confidence', 'NN'), ('in', 'IN'), ('Mr.', 'NNP'), ('Lawson', 'NNP'), (\"'s\", 'POS'), ('promise', 'NN'), ('Friday', 'NNP'), ('.', '.')], [('In', 'IN'), ('European', 'NNP'), ('trading', 'NN'), ('it', 'PRP'), ('declined', 'VBD'), ('to', 'TO'), ('$', '$'), ('1.5890', 'CD'), ('and', 'CC'), ('2.9495', 'CD'), ('marks', 'NNS'), ('from', 'IN'), ('$', '$'), ('1.5940', 'CD'), ('and', 'CC'), ('2.9429', 'CD'), ('marks', 'NNS'), ('late', 'JJ'), ('Thursday', 'NNP'), ('.', '.')], [('Economists', 'NNS'), ('suggested', 'VBD'), ('that', 'IN'), ('if', 'IN'), ('the', 'DT'), ('pound', 'NN'), ('falls', 'VBZ'), ('much', 'JJ'), ('below', 'NN'), ('2.90', 'CD'), ('marks', 'NNS'), (',', ','), ('the', 'DT'), ('government', 'NN'), ('will', 'MD'), ('be', 'VB'), ('forced', 'VBN'), ('to', 'TO'), ('increase', 'VB'), ('rates', 'NNS'), ('to', 'TO'), ('16', 'CD'), ('%', 'NN'), (',', ','), ('both', 'DT'), ('to', 'TO'), ('halt', 'VB'), ('any', 'DT'), ('further', 'JJ'), ('decline', 'NN'), ('and', 'CC'), ('ensure', 'NN'), ('that', 'IN'), ('the', 'DT'), ('balance', 'NN'), ('of', 'IN'), ('monetary', 'JJ'), ('policy', 'NN'), ('remains', 'NNS'), ('unchanged', 'VBN'), ('.', '.')], [('Friday', 'NNP'), (\"'s\", 'POS'), ('Market', 'NNP'), ('Activity', 'NNP')], [('The', 'DT'), ('dollar', 'NN'), ('posted', 'VBD'), ('gains', 'NNS'), ('in', 'IN'), ('quiet', 'JJ'), ('trading', 'NN'), ('as', 'IN'), ('concerns', 'NNS'), ('about', 'IN'), ('equities', 'NNS'), ('abated', 'VBD'), ('.', '.')], [('Foreign', 'NNP'), ('exchange', 'NN'), ('dealers', 'NNS'), ('said', 'VBD'), ('that', 'IN'), ('the', 'DT'), ('currency', 'NN'), ('market', 'NN'), ('has', 'VBZ'), ('begun', 'VBN'), ('to', 'TO'), ('distance', 'VB'), ('itself', 'PRP'), ('from', 'IN'), ('the', 'DT'), ('volatile', 'JJ'), ('stock', 'NN'), ('exchange', 'NN'), (',', ','), ('which', 'WDT'), ('has', 'VBZ'), ('preoccupied', 'VBN'), ('the', 'DT'), ('market', 'NN'), ('since', 'IN'), ('Oct.', 'NNP'), ('13', 'CD'), (',', ','), ('when', 'WRB'), ('the', 'DT'), ('Dow', 'NNP'), ('Jones', 'NNP'), ('Industrial', 'NNP'), ('Average', 'NNP'), ('plunged', 'VBD'), ('more', 'JJR'), ('than', 'IN'), ('190', 'CD'), ('points', 'NNS'), ('.', '.')], [('Currency', 'NNP'), ('analysts', 'NNS'), ('predict', 'VBP'), ('that', 'IN'), ('in', 'IN'), ('the', 'DT'), ('coming', 'VBG'), ('week', 'NN'), ('the', 'DT'), ('foreign', 'JJ'), ('exchange', 'NN'), ('market', 'NN'), ('will', 'MD'), ('shift', 'VB'), ('its', 'PRP$'), ('focus', 'NNS'), ('back', 'RB'), ('to', 'TO'), ('economic', 'JJ'), ('fundamentals', 'NNS'), (',', ','), ('keeping', 'VBG'), ('a', 'DT'), ('close', 'NN'), ('eye', 'NN'), ('out', 'IN'), ('for', 'IN'), ('any', 'DT'), ('signs', 'NNS'), ('of', 'IN'), ('monetary', 'JJ'), ('easing', 'NN'), ('by', 'IN'), ('U.S.', 'NNP'), ('Federal', 'NNP'), ('Reserve', 'NNP'), ('.', '.')], [('Late', 'NNP'), ('in', 'IN'), ('the', 'DT'), ('New', 'NNP'), ('York', 'NNP'), ('trading', 'NN'), ('day', 'NN'), (',', ','), ('the', 'DT'), ('dollar', 'NN'), ('was', 'VBD'), ('quoted', 'VBN'), ('at', 'IN'), ('1.8578', 'CD'), ('marks', 'NNS'), (',', ','), ('up', 'IN'), ('from', 'IN'), ('1.8470', 'CD'), ('marks', 'NNS'), ('late', 'JJ'), ('Thursday', 'NN'), ('in', 'IN'), ('New', 'NNP'), ('York', 'NNP'), ('.', '.')], [('The', 'DT'), ('U.S.', 'NNP'), ('currency', 'NN'), ('was', 'VBD'), ('also', 'RB'), ('changing', 'VBG'), ('hands', 'NNS'), ('at', 'IN'), ('142.43', 'CD'), ('yen', 'NN'), (',', ','), ('up', 'IN'), ('from', 'IN'), ('141.70', 'CD'), ('yen', 'NNS'), ('in', 'IN'), ('New', 'NNP'), ('York', 'NNP'), ('late', 'JJ'), ('Thursday', 'NNP'), ('.', '.')], [('In', 'IN'), ('Tokyo', 'NNP'), ('on', 'IN'), ('Monday', 'NNP'), (',', ','), ('the', 'DT'), ('U.S.', 'NNP'), ('currency', 'NN'), ('opened', 'VBD'), ('for', 'IN'), ('trading', 'NN'), ('at', 'IN'), ('141.95', 'CD'), ('yen', 'NN'), (',', ','), ('up', 'IN'), ('from', 'IN'), ('Friday', 'NNP'), (\"'s\", 'POS'), ('Tokyo', 'NNP'), ('close', 'NN'), ('of', 'IN'), ('141.35', 'CD'), ('yen', 'NNS'), ('.', '.')], [('On', 'IN'), ('the', 'DT'), ('Commodity', 'NNP'), ('Exchange', 'NNP'), ('in', 'IN'), ('New', 'NNP'), ('York', 'NNP'), (',', ','), ('gold', 'VBN'), ('for', 'IN'), ('current', 'JJ'), ('delivery', 'NN'), ('settled', 'VBD'), ('at', 'IN'), ('$', '$'), ('367.30', 'CD'), ('an', 'DT'), ('ounce', 'NN'), (',', ','), ('up', 'IN'), ('20', 'CD'), ('cents', 'NNS'), ('.', '.')], [('Estimated', 'NNP'), ('volume', 'NN'), ('was', 'VBD'), ('a', 'DT'), ('light', 'NN'), ('2.4', 'CD'), ('million', 'CD'), ('ounces', 'NNS'), ('.', '.')], [('In', 'IN'), ('early', 'JJ'), ('trading', 'NN'), ('in', 'IN'), ('Hong', 'NNP'), ('Kong', 'NNP'), ('Monday', 'NNP'), (',', ','), ('gold', 'NN'), ('was', 'VBD'), ('quoted', 'VBN'), ('at', 'IN'), ('$', '$'), ('366.50', 'CD'), ('an', 'DT'), ('ounce', 'NN'), ('.', '.')], [('East', 'NNP'), ('Rock', 'NNP'), ('Partners', 'NNP'), ('Limited', 'NNP'), ('Partnership', 'NNP'), ('said', 'VBD'), ('it', 'PRP'), ('proposed', 'VBD'), ('to', 'TO'), ('acquire', 'VB'), ('A.P.', 'NNP'), ('Green', 'NNP'), ('Industries', 'NNP'), ('Inc.', 'NNP'), ('for', 'IN'), ('$', '$'), ('40', 'CD'), ('a', 'DT'), ('share', 'NN'), ('.', '.')], [('In', 'IN'), ('an', 'DT'), ('Oct.', 'NNP'), ('19', 'CD'), ('letter', 'NN'), ('to', 'TO'), ('A.P.', 'NNP'), ('Green', 'NNP'), (\"'s\", 'POS'), ('board', 'NN'), (',', ','), ('East', 'NNP'), ('Rock', 'NNP'), ('said', 'VBD'), ('the', 'DT'), ('offer', 'NN'), ('is', 'VBZ'), ('subject', 'NN'), ('to', 'TO'), ('the', 'DT'), ('signing', 'NN'), ('of', 'IN'), ('a', 'DT'), ('merger', 'NN'), ('agreement', 'NN'), ('by', 'IN'), ('no', 'DT'), ('later', 'NN'), ('than', 'IN'), ('Oct.', 'NNP'), ('31', 'CD'), ('.', '.')], [('The', 'DT'), ('letter', 'NN'), (',', ','), ('attached', 'VBN'), ('to', 'TO'), ('a', 'DT'), ('filing', 'NN'), ('with', 'IN'), ('the', 'DT'), ('Securities', 'NNP'), ('and', 'CC'), ('Exchange', 'NNP'), ('Commission', 'NNP'), (',', ','), ('said', 'VBD'), ('the', 'DT'), ('approval', 'NN'), ('is', 'VBZ'), ('also', 'RB'), ('contingent', 'JJ'), ('upon', 'NN'), ('obtaining', 'VBG'), ('satisfactory', 'NN'), ('financing', 'NN'), ('.', '.')], [('An', 'NNP'), ('A.P.', 'NNP'), ('Green', 'NNP'), ('official', 'NN'), ('declined', 'VBD'), ('to', 'TO'), ('comment', 'VB'), ('on', 'IN'), ('the', 'DT'), ('filing', 'NN'), ('.', '.')], [('The', 'DT'), ('$', '$'), ('40-a-share', 'CD'), ('proposal', 'JJ'), ('values', 'NNS'), ('the', 'DT'), ('company', 'NN'), ('at', 'IN'), ('about', 'RB'), ('$', '$'), ('106.6', 'CD'), ('million', 'CD'), ('.', '.')], [('A.P.', 'NNP'), ('Green', 'NNP'), ('currently', 'RB'), ('has', 'VBZ'), ('2,664,098', 'CD'), ('shares', 'NNS'), ('outstanding', 'VBG'), ('.', '.')], [('Its', 'PRP$'), ('stock', 'NN'), ('closed', 'VBD'), ('at', 'IN'), ('$', '$'), ('38', 'CD'), (',', ','), ('up', 'IN'), ('$', '$'), ('1.875', 'CD'), (',', ','), ('in', 'IN'), ('national', 'JJ'), ('over-the-counter', 'JJ'), ('trading', 'NN'), ('.', '.')], [('The', 'DT'), ('company', 'NN'), ('is', 'VBZ'), ('a', 'DT'), ('Mexico', 'NNP'), (',', ','), ('Mo.', 'NNP'), (',', ','), ('maker', 'NN'), ('of', 'IN'), ('refractory', 'NN'), ('products', 'NNS'), ('.', '.')], [('East', 'NNP'), ('Rock', 'NNP'), ('also', 'RB'), ('said', 'VBD'), ('in', 'IN'), ('the', 'DT'), ('filing', 'NN'), ('that', 'IN'), ('it', 'PRP'), ('boosted', 'VBD'), ('its', 'PRP$'), ('stake', 'NN'), ('in', 'IN'), ('A.P.', 'NNP'), ('Green', 'NNP'), ('to', 'TO'), ('8.7', 'CD'), ('%', 'NN'), ('.', '.')], [('It', 'PRP'), ('now', 'RB'), ('holds', 'VBZ'), ('233,000', 'CD'), ('A.P.', 'NNP'), ('Green', 'NNP'), ('common', 'NN'), ('shares', 'NNS'), (',', ','), ('including', 'VBG'), ('30,000', 'CD'), ('shares', 'NNS'), ('bought', 'VBD'), ('last', 'JJ'), ('Thursday', 'NN'), ('for', 'IN'), ('$', '$'), ('35.50', 'CD'), ('to', 'TO'), ('$', '$'), ('36.50', 'CD'), ('a', 'DT'), ('share', 'NN'), ('.', '.')], [('New', 'NNP'), ('York-based', 'NNP'), ('John', 'NNP'), ('Kuhns', 'NNP'), ('and', 'CC'), ('Robert', 'NNP'), ('MacDonald', 'NNP'), ('control', 'NNP'), ('East', 'NNP'), ('Rock', 'NNP'), ('Partners', 'NNP'), ('Inc.', 'NNP'), (',', ','), ('the', 'DT'), ('sole', 'JJ'), ('general', 'JJ'), ('partner', 'NN'), ('of', 'IN'), ('East', 'NNP'), ('Rock', 'NNP'), ('Partners', 'NNP'), ('L.P', 'NNP'), ('.', '.')], [('The', 'DT'), ('sole', 'NN'), ('limited', 'VBD'), ('partner', 'NN'), ('of', 'IN'), ('the', 'DT'), ('partnership', 'NN'), ('is', 'VBZ'), ('Westwood', 'NNP'), ('Brick', 'NNP'), ('Lime', 'NNP'), ('Inc.', 'NNP'), (',', ','), ('an', 'DT'), ('indirect', 'NN'), ('subsidiary', 'NN'), ('of', 'IN'), ('Westwood', 'NNP'), ('Group', 'NNP'), ('Inc', 'NNP'), ('.', '.')], [('Both', 'NNP'), ('Westwood', 'NNP'), ('Brick', 'NNP'), ('and', 'CC'), ('Westwood', 'NNP'), ('Group', 'NNP'), ('are', 'VBP'), ('based', 'VBN'), ('in', 'IN'), ('Boston', 'NNP'), ('.', '.')], [('Freight', 'JJ'), ('rates', 'NNS'), (',', ','), ('declining', 'VBG'), ('for', 'IN'), ('most', 'RBS'), ('of', 'IN'), ('the', 'DT'), ('decade', 'NN'), ('because', 'IN'), ('of', 'IN'), ('competition', 'NN'), ('spurred', 'VBN'), ('by', 'IN'), ('deregulation', 'NN'), (',', ','), ('are', 'VBP'), ('bottoming', 'VBG'), ('out', 'NN'), (',', ','), ('turning', 'VBG'), ('upward', 'NN'), ('and', 'CC'), ('threatening', 'VBG'), ('to', 'TO'), ('fuel', 'VB'), ('inflation', 'NN'), ('.', '.')], [('Trucking', 'NNP'), (',', ','), ('shipping', 'VBG'), ('and', 'CC'), ('air-freight', 'JJ'), ('companies', 'NNS'), ('have', 'VBP'), ('announced', 'VBN'), ('rate', 'NN'), ('increases', 'NNS'), (',', ','), ('scheduled', 'VBN'), ('for', 'IN'), ('this', 'DT'), ('fall', 'NN'), ('or', 'CC'), ('early', 'RB'), ('next', 'JJ'), ('year', 'NN'), (',', ','), ('reflecting', 'VBG'), ('higher', 'JJR'), ('costs', 'NNS'), ('and', 'CC'), ('tightened', 'JJ'), ('demand', 'NN'), ('for', 'IN'), ('freight', 'JJ'), ('transport', 'NN'), ('.', '.')], [('Major', 'JJ'), ('shippers', 'NNS'), ('say', 'VBP'), ('they', 'PRP'), ('expect', 'VBP'), ('freight', 'VBN'), ('rates', 'NNS'), ('to', 'TO'), ('rise', 'VB'), ('at', 'IN'), ('least', 'NN'), ('as', 'IN'), ('fast', 'NN'), ('as', 'IN'), ('inflation', 'NN'), ('and', 'CC'), ('maybe', 'JJ'), ('faster', 'NN'), ('in', 'IN'), ('the', 'DT'), ('next', 'JJ'), ('few', 'JJ'), ('years', 'NNS'), ('.', '.')], [('That', 'DT'), (\"'s\", 'POS'), ('a', 'DT'), ('big', 'JJ'), ('change', 'NN'), ('from', 'IN'), ('recent', 'JJ'), ('years', 'NNS'), ('when', 'WRB'), ('freight', 'JJ'), ('haulage', 'NN'), ('was', 'VBD'), ('a', 'DT'), ('bright', 'NN'), ('spot', 'NN'), ('for', 'IN'), ('U.S.', 'NNP'), ('productivity', 'NN'), (',', ','), ('helping', 'VBG'), ('to', 'TO'), ('restrain', 'VB'), ('inflation', 'NN'), ('and', 'CC'), ('make', 'VB'), ('U.S.', 'NNP'), ('industry', 'NN'), ('more', 'RBR'), ('competitive', 'JJ'), ('abroad', 'NN'), ('.', '.')], [('``', '``'), ('Demand', 'NNP'), ('has', 'VBZ'), ('caught', 'VBN'), ('up', 'IN'), ('with', 'IN'), ('the', 'DT'), ('supply', 'NN'), ('of', 'IN'), ('certain', 'JJ'), ('types', 'NNS'), ('of', 'IN'), ('freight', 'JJ'), ('transportation', 'NN'), (',', ','), ('and', 'CC'), ('rates', 'NNS'), ('are', 'VBP'), ('starting', 'VBG'), ('to', 'TO'), ('move', 'VB'), ('up', 'IN'), (\"''\", \"''\"), ('at', 'IN'), ('a', 'DT'), ('rate', 'NN'), ('``', '``'), ('close', 'NN'), ('to', 'TO'), ('or', 'VB'), ('slightly', 'RB'), ('more', 'JJR'), ('than', 'IN'), ('the', 'DT'), ('inflation', 'NN'), ('rate', 'NN'), (',', ','), (\"''\", \"''\"), ('said', 'VBD'), ('Clifford', 'NNP'), ('Sayre', 'NNP'), (',', ','), ('director', 'NN'), ('of', 'IN'), ('logistics', 'NNS'), ('at', 'IN'), ('Du', 'NNP'), ('Pont', 'NNP'), ('Co', 'NNP'), ('.', '.')], [('Shippers', 'NNS'), ('surveyed', 'VBD'), ('recently', 'RB'), ('by', 'IN'), ('Ohio', 'NNP'), ('State', 'NNP'), ('University', 'NNP'), ('said', 'VBD'), ('they', 'PRP'), ('expect', 'VBP'), ('their', 'PRP$'), ('freight-transport', 'NN'), (',', ','), ('storage', 'NN'), ('and', 'CC'), ('distribution', 'NN'), ('costs', 'NNS'), ('to', 'TO'), ('rise', 'VB'), ('about', 'IN'), ('4', 'CD'), ('%', 'NN'), ('this', 'DT'), ('year', 'NN'), ('.', '.')], [('Only', 'RB'), ('10', 'CD'), ('%', 'NN'), ('of', 'IN'), ('the', 'DT'), ('250', 'CD'), ('shippers', 'NNS'), ('polled', 'VBD'), ('expected', 'VBN'), ('their', 'PRP$'), ('freight-transport', 'NN'), ('costs', 'NNS'), ('to', 'TO'), ('decrease', 'VB'), (',', ','), ('compared', 'VBN'), ('with', 'IN'), ('30', 'CD'), ('%', 'NN'), ('who', 'WP'), ('had', 'VBD'), ('looked', 'VBN'), ('to', 'TO'), ('freight', 'VB'), ('transport', 'NN'), ('to', 'TO'), ('reduce', 'VB'), ('costs', 'NNS'), ('in', 'IN'), ('past', 'JJ'), ('years', 'NNS'), ('.', '.')], [('``', '``'), ('This', 'DT'), ('is', 'VBZ'), ('the', 'DT'), ('first', 'JJ'), ('year', 'NN'), ('since', 'NN'), ('transportation', 'NN'), ('deregulation', 'NN'), ('in', 'IN'), ('1980', 'CD'), ('that', 'IN'), ('we', 'PRP'), ('have', 'VBP'), ('had', 'VBD'), ('such', 'JJ'), ('a', 'DT'), ('dramatic', 'JJ'), ('and', 'CC'), ('broad-based', 'JJ'), ('upturn', 'NN'), ('in', 'IN'), ('perceived', 'JJ'), ('transportation', 'NN'), ('rates', 'NNS'), (',', ','), (\"''\", \"''\"), ('said', 'VBD'), ('Bernard', 'NNP'), ('LaLonde', 'NNP'), (',', ','), ('a', 'DT'), ('transportation', 'NN'), ('logistics', 'NNS'), ('professor', 'IN'), ('at', 'IN'), ('Ohio', 'NNP'), ('State', 'NNP'), ('in', 'IN'), ('Columbus', 'NNP'), ('.', '.')], [('The', 'DT'), ('deregulation', 'NN'), ('of', 'IN'), ('railroads', 'NNS'), ('and', 'CC'), ('trucking', 'VBG'), ('companies', 'NNS'), ('that', 'WDT'), ('began', 'VBD'), ('in', 'IN'), ('1980', 'CD'), ('enabled', 'JJ'), ('shippers', 'NNS'), ('to', 'TO'), ('bargain', 'VB'), ('for', 'IN'), ('transportation', 'NN'), ('.', '.')], [('Carriers', 'NNS'), ('could', 'MD'), ('use', 'VB'), ('their', 'PRP$'), ('equipment', 'NN'), ('more', 'RBR'), ('efficiently', 'RB'), (',', ','), ('leading', 'VBG'), ('to', 'TO'), ('overcapacity', 'VB'), ('they', 'PRP'), ('were', 'VBD'), ('eager', 'JJR'), ('to', 'TO'), ('fill', 'VB'), ('.', '.')], [('Shippers', 'NNS'), ('cut', 'VBP'), ('about', 'RB'), ('$', '$'), ('35', 'CD'), ('billion', 'CD'), ('from', 'IN'), ('their', 'PRP$'), ('annual', 'JJ'), (',', ','), ('inter-city', 'NN'), ('truck', 'NN'), ('and', 'CC'), ('rail', 'JJ'), ('costs', 'NNS'), (',', ','), ('to', 'TO'), ('about', 'VB'), ('$', '$'), ('150', 'CD'), ('billion', 'CD'), (',', ','), ('or', 'CC'), ('about', 'IN'), ('6.4', 'CD'), ('%', 'NN'), ('of', 'IN'), ('gross', 'NN'), ('national', 'JJ'), ('product', 'NN'), (',', ','), ('down', 'RB'), ('from', 'IN'), ('8', 'CD'), ('%', 'NN'), ('of', 'IN'), ('GNP', 'NNP'), ('in', 'IN'), ('1981', 'CD'), ('.', '.')], [('But', 'CC'), ('with', 'IN'), ('much', 'JJ'), ('of', 'IN'), ('the', 'DT'), ('inefficiency', 'NN'), ('squeezed', 'VBN'), ('out', 'IN'), ('of', 'IN'), ('the', 'DT'), ('freight-transport', 'NN'), ('system', 'NN'), (',', ','), ('rising', 'VBG'), ('costs', 'NNS'), ('are', 'VBP'), ('likely', 'RB'), ('to', 'TO'), ('be', 'VB'), ('reflected', 'VBN'), ('directly', 'RB'), ('in', 'IN'), ('higher', 'JJR'), ('freight', 'NN'), ('rates', 'NNS'), ('.', '.')], [('``', '``'), ('Shippers', 'NNS'), ('are', 'VBP'), ('saying', 'VBG'), ('`', 'IN'), ('the', 'DT'), ('party', 'NN'), (\"'s\", 'POS'), ('over', 'NN'), (',', ','), (\"'\", 'POS'), (\"''\", \"''\"), ('said', 'VBD'), ('Mr.', 'NNP'), ('LaLonde', 'NNP'), ('.', '.')], [('``', '``'), ('Shippers', 'NNS'), ('wo', 'MD'), (\"n't\", 'RB'), ('be', 'VB'), ('able', 'JJ'), ('to', 'TO'), ('look', 'VB'), ('for', 'IN'), ('transportation-cost', 'NN'), ('savings', 'NNS'), ('as', 'IN'), ('they', 'PRP'), ('have', 'VBP'), ('for', 'IN'), ('the', 'DT'), ('last', 'JJ'), ('eight', 'NN'), ('or', 'CC'), ('nine', 'CD'), ('years', 'NNS'), ('.', '.')], [('Transport', 'NNP'), ('rates', 'NNS'), ('wo', 'MD'), (\"n't\", 'RB'), ('be', 'VB'), ('an', 'DT'), ('opportunity', 'NN'), ('for', 'IN'), ('offsetting', 'VBG'), ('cost', 'NN'), ('increases', 'NNS'), ('in', 'IN'), ('other', 'JJ'), ('segments', 'NNS'), ('of', 'IN'), ('the', 'DT'), ('economy', 'NN'), ('.', '.'), (\"''\", \"''\")], [('Robert', 'NNP'), ('Delaney', 'NNP'), (',', ','), ('a', 'DT'), ('consultant', 'NN'), ('at', 'IN'), ('Arthur', 'NNP'), ('D.', 'NNP'), ('Little', 'NNP'), ('Inc.', 'NNP'), (',', ','), ('Cambridge', 'NNP'), (',', ','), ('Mass.', 'NNP'), (',', ','), ('said', 'VBD'), ('``', '``'), ('We', 'PRP'), (\"'ve\", 'VBP'), ('gotten', 'RB'), ('all', 'VB'), ('the', 'DT'), ('benefits', 'NNS'), ('of', 'IN'), ('deregulation', 'NN'), ('in', 'IN'), ('freight-cost', 'NN'), ('reductions', 'NNS'), ('.', '.')], [('Now', 'NNP'), ('we', 'PRP'), ('are', 'VBP'), ('starting', 'VBG'), ('to', 'TO'), ('see', 'VB'), ('real', 'JJ'), ('freight-rate', 'NN'), ('increases', 'NNS'), ('as', 'IN'), ('carriers', 'NNS'), ('replace', 'NN'), ('equipment', 'NN'), (',', ','), ('pay', 'RB'), ('higher', 'JJR'), ('fuel', 'NN'), ('costs', 'NNS'), ('and', 'CC'), ('pay', 'VB'), ('more', 'JJR'), ('for', 'IN'), ('labor', 'NN'), ('.', '.')], [('You', 'PRP'), (\"'ll\", 'MD'), ('see', 'VB'), ('carriers', 'NNS'), ('try', 'VBP'), ('to', 'TO'), ('recoup', 'VB'), ('some', 'DT'), ('of', 'IN'), ('the', 'DT'), ('price', 'NN'), ('cutting', 'NN'), ('that', 'WDT'), ('occurred', 'VBD'), ('previously', 'RB'), ('.', '.'), (\"''\", \"''\")], [('Not', 'NNP'), ('everyone', 'NN'), ('believes', 'NNS'), ('that', 'IN'), ('the', 'DT'), ('good', 'JJ'), ('times', 'NNS'), ('are', 'VBP'), ('over', 'RB'), ('for', 'IN'), ('shippers', 'NNS'), ('.', '.')], [('``', '``'), ('There', 'EX'), (\"'s\", 'POS'), ('still', 'RB'), ('a', 'DT'), ('lot', 'NN'), ('of', 'IN'), ('pressure', 'NN'), ('on', 'IN'), ('rates', 'NNS'), ('in', 'IN'), ('both', 'DT'), ('rail', 'NN'), ('and', 'CC'), ('truck', 'NN'), (',', ','), (\"''\", \"''\"), ('said', 'VBD'), ('Gerard', 'NNP'), ('McCullough', 'NNP'), (',', ','), ('lecturer', 'NN'), ('in', 'IN'), ('transportation', 'NN'), ('at', 'IN'), ('Massachusetts', 'NNP'), ('Institute', 'NNP'), ('of', 'IN'), ('Technology', 'NNP'), ('.', '.')], [('Less-than-truckload', 'JJ'), ('companies', 'NNS'), (',', ','), ('which', 'WDT'), ('carry', 'VBP'), ('the', 'DT'), ('freight', 'NN'), ('of', 'IN'), ('several', 'JJ'), ('shippers', 'NNS'), ('in', 'IN'), ('each', 'DT'), ('truck', 'NN'), ('trailer', 'NN'), (',', ','), ('discounted', 'VBD'), ('away', 'RB'), ('a', 'DT'), ('4.7', 'CD'), ('%', 'NN'), ('rate', 'NN'), ('increase', 'NN'), ('implemented', 'VBD'), ('last', 'JJ'), ('April', 'NNP'), ('.', '.')], [('The', 'DT'), ('carriers', 'NNS'), ('were', 'VBD'), ('competing', 'VBG'), ('fiercely', 'RB'), ('for', 'IN'), ('market', 'NN'), ('share', 'NN'), ('.', '.')], [('Railroad-rate', 'JJ'), ('increases', 'NNS'), ('are', 'VBP'), ('likely', 'RB'), ('to', 'TO'), ('be', 'VB'), ('restrained', 'VBN'), ('by', 'IN'), ('weakening', 'VBG'), ('rail-traffic', 'JJ'), ('levels', 'NNS'), ('and', 'CC'), ('keen', 'JJ'), ('competition', 'NN'), ('for', 'IN'), ('freight', 'NN'), ('from', 'IN'), ('trucks', 'NNS'), ('.', '.')], [('An', 'DT'), ('official', 'NN'), ('at', 'IN'), ('Consolidated', 'NNP'), ('Freightways', 'NNP'), ('Inc.', 'NNP'), (',', ','), ('a', 'DT'), ('Menlo', 'NNP'), ('Park', 'NNP'), (',', ','), ('Calif.', 'NNP'), (',', ','), ('less-than-truckload', 'JJ'), ('carrier', 'NN'), (',', ','), ('said', 'VBD'), ('rate', 'JJ'), ('discounting', 'NN'), ('in', 'IN'), ('that', 'DT'), ('industry', 'NN'), ('has', 'VBZ'), ('begun', 'VBN'), ('to', 'TO'), ('``', '``'), ('stabilize', 'NN'), ('.', '.'), (\"''\", \"''\")], [('Consolidated', 'NNP'), ('Freightways', 'NNP'), ('plans', 'VBZ'), ('to', 'TO'), ('raise', 'VB'), ('its', 'PRP$'), ('rates', 'NNS'), ('5.3', 'CD'), ('%', 'NN'), ('late', 'IN'), ('this', 'DT'), ('year', 'NN'), ('or', 'CC'), ('early', 'RB'), ('next', 'JJ'), ('year', 'NN'), (',', ','), ('and', 'CC'), ('at', 'IN'), ('least', 'JJS'), ('two', 'CD'), ('competitors', 'NNS'), ('have', 'VBP'), ('announced', 'VBN'), ('similar', 'JJ'), ('increases', 'NNS'), ('.', '.')]]\n",
      "Taux d'évaluation: 0.9071729957805907\n"
     ]
    },
    {
     "name": "stderr",
     "output_type": "stream",
     "text": [
      "/var/folders/x7/bmqxr1zd3lxd_kcxxw9physr0000gn/T/ipykernel_2297/1324122420.py:15: DeprecationWarning: \n",
      "  Function evaluate() has been deprecated.  Use accuracy(gold)\n",
      "  instead.\n",
      "  print(\"Taux d'évaluation:\",tagger.evaluate(alldocsT))\n"
     ]
    }
   ],
   "source": [
    "# !pip install python-crfsuite\n",
    "from nltk.tag.crf import CRFTagger\n",
    "tagger = CRFTagger()\n",
    "tagger.train(alldocs, 'crf.model') # training\n",
    "\n",
    "# TO DO\n",
    "bufT = [[m for m,pos in d ] for d in alldocsT]\n",
    "\n",
    "pred = tagger.tag_sents(bufT) # prediction\n",
    "print(pred)\n",
    "\n",
    "# evaluation de test\n",
    "print(\"Taux d'évaluation:\",tagger.evaluate(alldocsT))"
   ]
  },
  {
   "cell_type": "markdown",
   "metadata": {},
   "source": [
    "### Training and evaluating the model, as before"
   ]
  },
  {
   "cell_type": "markdown",
   "metadata": {},
   "source": [
    "Check: 1720 bonnes réponses"
   ]
  },
  {
   "cell_type": "code",
   "execution_count": 54,
   "metadata": {},
   "outputs": [
    {
     "name": "stdout",
     "output_type": "stream",
     "text": [
      "Taux d'évaluation: 0.919831223628692\n",
      "Check: 1744\n"
     ]
    },
    {
     "name": "stderr",
     "output_type": "stream",
     "text": [
      "/var/folders/x7/bmqxr1zd3lxd_kcxxw9physr0000gn/T/ipykernel_2297/1669067953.py:5: DeprecationWarning: \n",
      "  Function evaluate() has been deprecated.  Use accuracy(gold)\n",
      "  instead.\n",
      "  taux = tagger.evaluate(alldocsT)\n"
     ]
    }
   ],
   "source": [
    "# perceptron\n",
    "from nltk.tag.perceptron    import PerceptronTagger\n",
    "tagger = PerceptronTagger(load=False)\n",
    "tagger.train(alldocs)\n",
    "taux = tagger.evaluate(alldocsT)\n",
    "print(\"Taux d'évaluation:\",taux) \n",
    "bufT = [[m for m,pos in d ] for d in alldocsT]\n",
    "bu = []\n",
    "[bu.extend(b) for b in bufT]\n",
    "print(\"Check:\", int(taux*len(bu)))\n"
   ]
  },
  {
   "cell_type": "code",
   "execution_count": null,
   "metadata": {},
   "outputs": [],
   "source": []
  },
  {
   "cell_type": "markdown",
   "metadata": {},
   "source": [
    "Check: 1737 bonnes réponses"
   ]
  },
  {
   "cell_type": "markdown",
   "metadata": {},
   "source": [
    "# Going further\n",
    "\n",
    "- We test the application for PoS, we can run similar experiments for chunking (see parsing indication, very simple to load data)\n",
    "- Run  experiement on the larger dataset. This dataset is still largely used in research. This work can thus be included in your resume :)\n",
    "- Work will be purshed with word embeddings (next practical), and for [NER](https://www.clips.uantwerpen.be/conll2003/ner/) with RNNs (X. Tannier)\n",
    "- [State-of-the-art resources](https://github.com/stanfordnlp/stanza/)"
   ]
  }
 ],
 "metadata": {
  "kernelspec": {
   "display_name": "base",
   "language": "python",
   "name": "python3"
  },
  "language_info": {
   "codemirror_mode": {
    "name": "ipython",
    "version": 3
   },
   "file_extension": ".py",
   "mimetype": "text/x-python",
   "name": "python",
   "nbconvert_exporter": "python",
   "pygments_lexer": "ipython3",
   "version": "3.9.16"
  },
  "vscode": {
   "interpreter": {
    "hash": "0f38275fe324cff011bf64454bf1337fa3433494d141d84f634fc0b52ac52478"
   }
  }
 },
 "nbformat": 4,
 "nbformat_minor": 2
}
